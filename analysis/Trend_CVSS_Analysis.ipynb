{
  "cells": [
    {
      "cell_type": "code",
      "execution_count": null,
      "metadata": {
        "id": "xUztJNe6z4jp"
      },
      "outputs": [],
      "source": [
        "import csv\n",
        "from google.colab import drive\n",
        "drive.mount('/content/drive')"
      ]
    },
    {
      "cell_type": "markdown",
      "metadata": {
        "id": "VioRQ9sQz4jw"
      },
      "source": [
        "store ids of non-rejected CVE instances"
      ]
    },
    {
      "cell_type": "code",
      "execution_count": null,
      "metadata": {
        "id": "qcoMLkvlz4jy"
      },
      "outputs": [],
      "source": [
        "#change path of NVD_2000-2021.csv\n",
        "count = 0\n",
        "with open('/content/drive/MyDrive/Research/NVD_2000-2021.csv', 'r',encoding='utf-8') as f:\n",
        "    file = csv.DictReader(f)\n",
        "    for i in file:\n",
        "        count+=1\n",
        "print(count)"
      ]
    },
    {
      "cell_type": "code",
      "execution_count": null,
      "metadata": {
        "id": "ctMsVxXdz4j0"
      },
      "outputs": [],
      "source": [
        "not_rejected_ids = {} \n",
        "with open('/content/labelling.csv', 'r',encoding='utf-8') as f:\n",
        "    labelling = csv.DictReader(f)\n",
        "    for row in labelling:\n",
        "        not_rejected_ids[row['CVE-id']] = int(row['Dominant_Topic'])\n",
        "\n",
        "len(not_rejected_ids)\n"
      ]
    },
    {
      "cell_type": "code",
      "execution_count": null,
      "metadata": {
        "id": "8tPzuBVT8514"
      },
      "outputs": [],
      "source": [
        "import pandas as pd\n",
        "df = pd.read_csv(\"/content/labelling.csv\")\n",
        "print(df[df['CVE-id']=='CVE-2020-10739']['Dominant_Topic'])"
      ]
    },
    {
      "cell_type": "markdown",
      "metadata": {
        "id": "w7VlTCzbz4j1"
      },
      "source": [
        "obtain date of creation for non-rejected CVE instances (stored in not_rejected_dates)"
      ]
    },
    {
      "cell_type": "code",
      "execution_count": null,
      "metadata": {
        "id": "FUwmEsmZz4j1"
      },
      "outputs": [],
      "source": [
        "count = 0\n",
        "not_rejected_dates = {}\n",
        "with open('/content/drive/MyDrive/Research/NVD_2000-2021.csv', 'r',encoding='utf-8') as ff:\n",
        "    all_cves = csv.DictReader(ff)\n",
        "    for row in all_cves:\n",
        "        id = row['vulnerability_id']\n",
        "        if id in not_rejected_ids:\n",
        "            count = count + 1\n",
        "            year = row['reporting_time'].split(\"/\")[2]\n",
        "            month = row['reporting_time'].split(\"/\")[0]\n",
        "            not_rejected_dates[id] = []\n",
        "            not_rejected_dates[id].append(year)\n",
        "            not_rejected_dates[id].append(month)\n",
        "            not_rejected_dates[id].append(not_rejected_ids[id]) #domtop\n",
        "            # print(count)\n",
        "                               \n",
        "print(len(not_rejected_dates))\n",
        "# for k,v in not_rejected_dates.items():\n",
        "#     print(k,v[0],v[1])"
      ]
    },
    {
      "cell_type": "code",
      "execution_count": null,
      "metadata": {
        "id": "bEZOPMb7z4j2"
      },
      "outputs": [],
      "source": [
        "#store the year information for non-rejected cve instances in csv file\n",
        "with open('/content/year-info.csv', 'w', newline='') as file:\n",
        "    writer = csv.writer(file)\n",
        "    writer.writerow(['cve', 'Year','Month','DomTop'])\n",
        "    for k,v in not_rejected_dates.items():\n",
        "        writer.writerow([k,v[0],v[1],v[2]])"
      ]
    },
    {
      "cell_type": "markdown",
      "source": [
        "get total cves per year"
      ],
      "metadata": {
        "id": "2a7jbQz4WbKK"
      }
    },
    {
      "cell_type": "code",
      "execution_count": null,
      "metadata": {
        "id": "7NYsAD5cz4j3"
      },
      "outputs": [],
      "source": [
        "\n",
        "with open('/content/year-info.csv', 'r', newline='') as file:\n",
        "    reader = csv.DictReader(file)\n",
        "    for r in reader:\n",
        "        yr = r['Year']\n",
        "        if yr in year_dict:\n",
        "          year_dict[yr]+=1\n",
        "        else:\n",
        "          year_dict[yr]=1\n",
        "\n",
        "\n",
        "# for k,v in year_dict.items():\n",
        "#   print(k,v"
      ]
    },
    {
      "cell_type": "markdown",
      "source": [
        "get cves per month BY TOPIC"
      ],
      "metadata": {
        "id": "p3N3MVBxWeEs"
      }
    },
    {
      "cell_type": "code",
      "execution_count": null,
      "metadata": {
        "id": "DqEoqen79Imw"
      },
      "outputs": [],
      "source": [
        "months_dict={} #{2000:[i=0 jan, i=1 feb....],2001:[....],....}\n",
        "desired_topic = 17\n",
        "with open('/content/year-info.csv', 'r', newline='') as file:\n",
        "    reader = csv.DictReader(file)\n",
        "    for r in reader:\n",
        "        yr = r['Year']\n",
        "        cveid = r['cve']\n",
        "        month = r['Month']\n",
        "        domTop = int(r['DomTop'])\n",
        "        i = int(month)-1\n",
        "        if domTop==desired_topic:\n",
        "          if yr in months_dict:\n",
        "            months_dict[yr][i]+=1\n",
        "          else:\n",
        "            temp = [0]*12\n",
        "            temp[i]=1\n",
        "            months_dict[yr]=temp\n",
        "        else:\n",
        "          continue\n",
        "\n",
        "print(\"For topic: \", desired_topic)\n",
        "header = []\n",
        "monthsData = []\n",
        "header.append(desired_topic)\n",
        "monthsData.append(\"\")\n",
        "for k,v in months_dict.items():\n",
        "  yrabbr = k[-2:]\n",
        "  for i in range(1,13):\n",
        "    h = \"'\"+str(i)+\"/\"+yrabbr\n",
        "    header.append(h)\n",
        "  \n",
        "  for i in v:\n",
        "    monthsData.append(i)\n",
        "print(header, len(header))\n",
        "print(monthsData,len(monthsData))\n",
        "\n",
        "with open('/content/months.csv', 'a', newline='') as file:\n",
        "    writer = csv.writer(file)\n",
        "    # writer.writerow(header)\n",
        "    writer.writerow(monthsData)"
      ]
    },
    {
      "cell_type": "markdown",
      "metadata": {
        "id": "-h5zMSvcz4j4"
      },
      "source": [
        "analyze topic distribution trends"
      ]
    },
    {
      "cell_type": "code",
      "execution_count": null,
      "metadata": {
        "id": "sBayslE6z4j4"
      },
      "outputs": [],
      "source": [
        "def find_max_key(dict):\n",
        "    max_v = 0\n",
        "    max_k = \"\"\n",
        "    for k,v in dict.items():\n",
        "        if k == 'CVE-ID':\n",
        "            continue\n",
        "        if k == 'Year':\n",
        "            continue\n",
        "        if k == 'Month':\n",
        "            continue\n",
        "        if float(v)>max_v:\n",
        "            max_v = float(v)\n",
        "            max_k = k\n",
        "            \n",
        "    return max_k\n",
        "            \n",
        "        \n",
        "#find trend where each vulnerbality is described using most dominant topic\n",
        "count = 0\n",
        "results = {\"2011\":{},\"2012\":{}, \"2013\":{},\"2014\":{},\"2015\":{},\"2016\":{},\"2017\":{},\"2018\":{},\"2019\":{},\"2020\":{},\"2021\":{}}\n",
        "desired_topic = \"Topic_17\"\n",
        "with open('importance.csv', 'r', newline='') as file:\n",
        "    reader = csv.DictReader(file)\n",
        "    for row in reader:\n",
        "        if find_max_key(row)==desired_topic:\n",
        "            year = row['Year']\n",
        "            month = row['Month']\n",
        "            if month in results[year]:\n",
        "                results[year][month]+=1\n",
        "            else:\n",
        "                results[year][month]=1\n",
        "#         if row['Year']==desired_year:\n",
        "#             dominantTopic = find_max_key(row)\n",
        "#             if dominantTopic in topic_count:\n",
        "#                 topic_count[dominantTopic]+=1\n",
        "#             else:\n",
        "#                 topic_count[dominantTopic] = 1\n",
        "\n",
        "# for k,v in results.items():\n",
        "#     print(k)\n",
        "#     for m,c in v.items():\n",
        "#         print(m,c)\n",
        "with open('trend-analysis-results.csv', 'a', newline='') as output:\n",
        "    writer = csv.writer(output)\n",
        "    writer.writerow([desired_topic])\n",
        "    temp = []\n",
        "    for k,v in results.items():\n",
        "        for m,c in v.items():\n",
        "            temp.append(c)\n",
        "    writer.writerow(temp)"
      ]
    },
    {
      "cell_type": "code",
      "execution_count": null,
      "metadata": {
        "id": "AdSrpffuz4j5"
      },
      "outputs": [],
      "source": [
        "months = [\"Jan\", \"Feb\",\"Mar\",\"Apr\",\"May\",\"June\",\"July\",\"Aug\",\"Sept\",\"Oct\",\"Nov\",\"Dec\"]\n",
        "temp = []\n",
        "for y in range(11,22):\n",
        "    for m in months:\n",
        "        entry = \" \"\n",
        "        entry+=m\n",
        "        entry+=\"-\"\n",
        "        entry+=str(y)\n",
        "        temp.append(entry)\n",
        "    with open('temp.csv', 'a', newline='') as output:\n",
        "        writer = csv.writer(output)\n",
        "        writer.writerow(temp)"
      ]
    },
    {
      "cell_type": "markdown",
      "metadata": {
        "id": "jDwtRijrz4j5"
      },
      "source": [
        "analyze topic importance evolution"
      ]
    },
    {
      "cell_type": "code",
      "execution_count": null,
      "metadata": {
        "id": "9a94TUP4z4j6"
      },
      "outputs": [],
      "source": [
        "topic_importances = {\"Topic_0\": {}, \"Topic_1\": {},\"Topic_2\": {},\"Topic_3\": {},\"Topic_4\": {},\"Topic_5\": {},\"Topic_6\": {},\n",
        "    \"Topic_7\": {},\n",
        "    \"Topic_8\": {},\n",
        "    \"Topic_9\": {},\"Topic_10\": {},\n",
        "    \"Topic_11\": {},\n",
        "    \"Topic_12\": {},\n",
        "    \"Topic_13\": {},\"Topic_14\": {},\"Topic_15\": {},\"Topic_16\": {},\"Topic_17\": {}}\n",
        "count = 0\n",
        "desired_year = '2000'\n",
        "# desired_month = '1'\n",
        "\n",
        "for topic in topic_importances:\n",
        "    print(topic)\n",
        "    for desired_month in range(1,13): \n",
        "        importance = 0\n",
        "        total_cves = 0\n",
        "        with open('importance.csv', 'r', newline='') as file:\n",
        "            reader = csv.DictReader(file)\n",
        "            for row in reader:\n",
        "\n",
        "\n",
        "                if row['Year']==desired_year and row['Month']==str(desired_month):\n",
        "                    importance += float(row[topic])\n",
        "                    total_cves+=1\n",
        "        topic_importances[topic][str(desired_month)]=importance/total_cves\n",
        "        # print(topic, importance, total_cves, importance/total_cves)\n"
      ]
    },
    {
      "cell_type": "code",
      "execution_count": null,
      "metadata": {
        "id": "wX9hykzljoRW"
      },
      "outputs": [],
      "source": [
        "for k,v in topic_importances.items():\n",
        "  print(k,v)\n",
        "# with open('trend-analysis-results.csv', 'a', newline='') as output:\n",
        "#     writer = csv.writer(output)\n",
        "#     writer.writerow([desired_year, desired_month])\n",
        "#     for k,v in topic_importances.items():\n",
        "#       print(k,v)\n",
        "#         # writer.writerow([k,v])"
      ]
    },
    {
      "cell_type": "code",
      "execution_count": null,
      "metadata": {
        "id": "EDrPN-OUlHyf"
      },
      "outputs": [],
      "source": [
        "topics = [\"Topic_0\", \"Topic_1\", \"Topic_2\", \"Topic_3\", \"Topic_4\",\"Topic_5\",\"Topic_6\",\n",
        "    \"Topic_7\",\n",
        "    \"Topic_8\",\n",
        "    \"Topic_9\",\"Topic_10\",\n",
        "    \"Topic_11\",\n",
        "    \"Topic_12\",\n",
        "    \"Topic_13\",\"Topic_14\",\"Topic_15\",\"Topic_16\",\"Topic_17\"]\n",
        "topic_importances = {}\n",
        "count = 0\n",
        "# desired_year = '2000'\n",
        "# desired_month = '1'\n",
        "results = {}\n",
        "for topic in topics:\n",
        "    print(topic)\n",
        "    for desired_year in range(2000,2022): \n",
        "        print(desired_year)\n",
        "        importance = 0\n",
        "        total_cves = 0\n",
        "        with open('importance.csv', 'r', newline='') as file:\n",
        "            reader = csv.DictReader(file)\n",
        "            for row in reader:\n",
        "                if int(row['Year'])==desired_year:\n",
        "                    importance += float(row[topic])\n",
        "                    total_cves+=1\n",
        "        topic_importances[topic]=importance/total_cves\n",
        "        # print(desired_year, topic, importance, total_cves, importance/total_cves)\n",
        "        if topic in results:\n",
        "          results[topic].append([desired_year, importance/total_cves]) \n",
        "        else:\n",
        "          results[topic] = [desired_year, importance/total_cves]\n",
        "        \n",
        "        # print(results)\n"
      ]
    },
    {
      "cell_type": "code",
      "execution_count": null,
      "metadata": {
        "id": "UmH9whtXz4j6"
      },
      "outputs": [],
      "source": [
        "# for k,v in results.items():\n",
        "#   print(k)\n",
        "#   for i in v:\n",
        "#     print(str(i)[1:-1])\n",
        "\n",
        "desired_year = '2021'\n",
        "# for k,v in topic_importances.items():\n",
        "#     print(k)\n",
        "#     temp=[]\n",
        "#     for m,c in v.items():\n",
        "# #         print(m,c)\n",
        "#         temp.append(c)\n",
        "#     print(temp)\n",
        "with open('trend-analysis-results.csv', 'w', newline='') as output:\n",
        "    writer = csv.writer(output)\n",
        "    for k,v in results.items():\n",
        "        writer.writerow([k])\n",
        "        for i in v:\n",
        "          if type(i) is list:\n",
        "            print(\"yes\")\n",
        "            writer.writerow([i[0],i[1]])\n",
        "          else:\n",
        "            writer.writerow([i])\n",
        "          # writer.writerow([i])\n",
        "        # writer.writerow(temp)"
      ]
    },
    {
      "cell_type": "markdown",
      "source": [
        "cvss score analysis by category"
      ],
      "metadata": {
        "id": "5GeeZuEJWm87"
      }
    },
    {
      "cell_type": "code",
      "execution_count": null,
      "metadata": {
        "id": "BLXC52c_z4j7"
      },
      "outputs": [],
      "source": [
        "original_cve_score={}\n",
        "with open('NVD_2000-2021.csv', 'r', newline='',encoding='utf-8') as nvd:\n",
        "    reader = csv.DictReader(nvd)\n",
        "    for row in reader:\n",
        "        original_cve_score[row['vulnerability_id']] = row['CVSS-Score']"
      ]
    },
    {
      "cell_type": "code",
      "execution_count": null,
      "metadata": {
        "id": "yVaao2U0z4j7"
      },
      "outputs": [],
      "source": [
        "cvss_scores={'low':0,'medium':0,'high':0,'critical':0}\n",
        "desired_topic=17\n",
        "count = 0\n",
        "with open('labelling.csv', 'r', newline='',encoding='utf-8') as file:\n",
        "    reader = csv.DictReader(file)\n",
        "    for row in reader:\n",
        "        if int(row['Dominant_Topic']) == desired_topic:\n",
        "          score=original_cve_score[row['CVE-id']]\n",
        "        else: \n",
        "          # continue\n",
        "          score=original_cve_score[row['CVE-id']]\n",
        "\n",
        "        if score!='N/A' and score!='N/A</a' and len(score)!=0:\n",
        "            count+=1\n",
        "            if float(score)>=0.0 and float(score)<=3.9:\n",
        "                cvss_scores['low']+=1\n",
        "            elif float(score)>=4.0 and float(score)<=6.9:\n",
        "                cvss_scores['medium']+=1\n",
        "            elif float(score)>=7.0 and float(score)<=8.9:\n",
        "                cvss_scores['high']+=1\n",
        "            elif float(score)>=9.0 and float(score)<=10.0:\n",
        "                cvss_scores['critical']+=1\n",
        "print(count)\n",
        "# header = [str(desired_topic), 'low', 'med', 'high']\n",
        "# vals = ['',0,0,0,0]\n",
        "# print(vals)\n",
        "\n",
        "# for k,v in cvss_scores.items():\n",
        "#   if k =='low':\n",
        "#     vals[1]+=v\n",
        "#   elif k=='medium':\n",
        "#     vals[2]+=v\n",
        "#   elif k == 'high':\n",
        "#     vals[3]+=v\n",
        "#   elif k == 'critical':\n",
        "#     vals[4]+=v\n",
        "\n",
        "# print(vals)\n",
        "# with open('cvss.csv', 'a', newline='',encoding='utf-8') as file:\n",
        "#     writer = csv.writer(file)\n",
        "#     # writer.writerow(header)\n",
        "#     writer.writerow(vals)"
      ]
    },
    {
      "cell_type": "code",
      "execution_count": null,
      "metadata": {
        "id": "T0NHTm70z4j7"
      },
      "outputs": [],
      "source": [
        "cvss_scores_by_year={'low':0,'medium':0,'high':0,'critical':0}\n",
        "desired_year = '2021'\n",
        "with open('year-info.csv', 'r', newline='',encoding='utf-8') as file:\n",
        "    reader = csv.DictReader(file)\n",
        "    for row in reader:\n",
        "        if row['Year']==desired_year:\n",
        "            score=original_cve_score[row['cve']]\n",
        "            if score!='N/A' and score!='N/A</a' and len(score)!=0:\n",
        "                if float(score)>=0.1 and float(score)<=3.9:\n",
        "                    cvss_scores_by_year['low']+=1\n",
        "                elif float(score)>=4.0 and float(score)<=6.9:\n",
        "                    cvss_scores_by_year['medium']+=1\n",
        "                elif float(score)>=7.0 and float(score)<=8.9:\n",
        "                    cvss_scores_by_year['high']+=1\n",
        "                elif float(score)>=9.0 and float(score)<=10.0:\n",
        "                    cvss_scores_by_year['critical']+=1\n",
        "\n",
        "header = [str(2000), 'low', 'med', 'high', 'critical']\n",
        "vals = ['',0,0,0,0]\n",
        "\n",
        "for k,v in cvss_scores_by_year.items():\n",
        "  if k =='low':\n",
        "    vals[1]+=v\n",
        "  elif k=='medium':\n",
        "    vals[2]+=v\n",
        "  elif k == 'high':\n",
        "    vals[3]+=v\n",
        "  elif k == 'critical':\n",
        "    vals[4]+=v\n",
        "\n",
        "with open('cvss_year.csv', 'a', newline='',encoding='utf-8') as file:\n",
        "    writer = csv.writer(file)\n",
        "    # writer.writerow(header)\n",
        "    writer.writerow(vals)\n",
        "    # for k,v in cvss_scores_by_year.items():\n",
        "    #     writer.writerow([k,v])\n",
        "    #     print(k,v)"
      ]
    },
    {
      "cell_type": "code",
      "execution_count": null,
      "metadata": {
        "id": "ZQgeYLePz4j8"
      },
      "outputs": [],
      "source": [
        "#get average CVSS scores per topic\n",
        "all_scores = {}\n",
        "with open('labelling.csv', 'r', newline='',encoding='utf-8') as file:\n",
        "    reader = csv.DictReader(file)\n",
        "    for row in reader:\n",
        "        topic = row['Dominant_Topic']\n",
        "        score = score=original_cve_score[row['CVE-id']]\n",
        "        if score!='N/A' and score!='N/A</a' and len(score)!=0:\n",
        "            if float(score)>=7.0 and float(score)<=8.9: #only high severity\n",
        "                if topic in all_scores:\n",
        "                    all_scores[topic].append(float(score))\n",
        "                else:\n",
        "                    temp = []\n",
        "                    temp.append(score)\n",
        "                    all_scores[topic]=temp\n",
        "                    \n",
        "for k,v in all_scores.items():\n",
        "    sum = 0\n",
        "    for s in v:\n",
        "        sum+=float(s)\n",
        "    print(k,sum/len(v), len(v))"
      ]
    }
  ],
  "metadata": {
    "colab": {
      "provenance": [],
      "collapsed_sections": []
    },
    "kernelspec": {
      "display_name": "Python 3",
      "language": "python",
      "name": "python3"
    },
    "language_info": {
      "codemirror_mode": {
        "name": "ipython",
        "version": 3
      },
      "file_extension": ".py",
      "mimetype": "text/x-python",
      "name": "python",
      "nbconvert_exporter": "python",
      "pygments_lexer": "ipython3",
      "version": "3.8.5"
    }
  },
  "nbformat": 4,
  "nbformat_minor": 0
}